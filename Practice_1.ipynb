{
  "nbformat": 4,
  "nbformat_minor": 0,
  "metadata": {
    "colab": {
      "name": "Practice.1.ipynb",
      "provenance": [],
      "collapsed_sections": []
    },
    "kernelspec": {
      "name": "python3",
      "display_name": "Python 3"
    },
    "language_info": {
      "name": "python"
    }
  },
  "cells": [
    {
      "cell_type": "code",
      "execution_count": null,
      "metadata": {
        "colab": {
          "base_uri": "https://localhost:8080/"
        },
        "id": "YcPCoKGcNon6",
        "outputId": "a68f0998-f1a8-4932-cbd7-5e895f78140a"
      },
      "outputs": [
        {
          "output_type": "stream",
          "name": "stdout",
          "text": [
            "Enter sequense aagaatgtatatgtctgacacgttagcctggtgactaagtagtaatactcaatgggcggttaaagcgc\n",
            "Adenine is 21  Cytosine is 11  Thymine is 18  Guanine is 18\n"
          ]
        }
      ],
      "source": [
        "seq = input(\"Enter sequense \", )\n",
        "ade, cyt, thy, gua = (seq.count(\"a\")), (seq.count(\"c\")), (seq.count(\"t\")), (seq.count(\"g\"))\n",
        "print(\"Adenine is\", ade, \" Cytosine is\", cyt, \" Thymine is\", thy, \" Guanine is\", gua)"
      ]
    },
    {
      "cell_type": "code",
      "source": [
        "seq = input(\"Enter sequence: \", )\n",
        "seqlist = list(seq)\n",
        "seq2 = seqlist[1:15]\n",
        "print(\"\".join(seq2))"
      ],
      "metadata": {
        "colab": {
          "base_uri": "https://localhost:8080/"
        },
        "id": "Ty17419jN9r4",
        "outputId": "c7a39adf-69aa-434c-9ba1-5cbc359453d6"
      },
      "execution_count": null,
      "outputs": [
        {
          "output_type": "stream",
          "name": "stdout",
          "text": [
            "Enter sequence: aagaatgtatatgtctgacacgttagcctggtgactaagtagtaatactcaatgggcggttaaagcgc\n",
            "agaatgtatatgtc\n"
          ]
        }
      ]
    },
    {
      "cell_type": "code",
      "source": [
        "seq = input(\"Enter sequence: \", )\n",
        "seqlist = list(seq)\n",
        "seq2 = seqlist[::-1]\n",
        "print(\"\".join(seq2))\n"
      ],
      "metadata": {
        "colab": {
          "base_uri": "https://localhost:8080/"
        },
        "id": "AADnXJkzOE_h",
        "outputId": "8576d7fe-794b-4f08-cedb-177058b25b99"
      },
      "execution_count": null,
      "outputs": [
        {
          "output_type": "stream",
          "name": "stdout",
          "text": [
            "Enter sequence: aagaatgtatatgtctgacacgttagcctggtgactaagtagtaatactcaatgggcggttaaagcgc\n",
            "cgcgaaattggcgggtaactcataatgatgaatcagtggtccgattgcacagtctgtatatgtaagaa\n"
          ]
        }
      ]
    },
    {
      "cell_type": "code",
      "source": [
        "seq = input(\"Enter sequence: \", )\n",
        "l = len(seq)\n",
        "print(l)"
      ],
      "metadata": {
        "colab": {
          "base_uri": "https://localhost:8080/"
        },
        "id": "P_H5T0VrOPZ3",
        "outputId": "188262ff-cbfd-4254-ad5c-f091c34e0a8d"
      },
      "execution_count": null,
      "outputs": [
        {
          "output_type": "stream",
          "name": "stdout",
          "text": [
            "Enter sequence: aagaatgtatatgtctgacacgttagcctggtgactaagtagtaatactcaatgggcggttaaagcgc\n",
            "68\n"
          ]
        }
      ]
    },
    {
      "cell_type": "code",
      "source": [
        "seq = list(input(\"Введите последовательность \", ))\n",
        "transcription = dict({\"a\": \"a\", \"t\": \"u\", \"c\": \"c\", \"g\": \"g\"})\n",
        "for i in seq:\n",
        "  print(transcription.get(i), end=\"\")"
      ],
      "metadata": {
        "colab": {
          "base_uri": "https://localhost:8080/"
        },
        "id": "FPjzB-OTOWHv",
        "outputId": "36acfad1-a260-4f7f-9823-c53c93b7340d"
      },
      "execution_count": 13,
      "outputs": [
        {
          "output_type": "stream",
          "name": "stdout",
          "text": [
            "Введите последовательность acgttaattagcagctgacggagtaatccccaaacctggagacgatgtat\n",
            "acguuaauuagcagcugacggaguaauccccaaaccuggagacgauguau"
          ]
        }
      ]
    },
    {
      "cell_type": "code",
      "source": [
        ""
      ],
      "metadata": {
        "id": "7tfOro3hOnth"
      },
      "execution_count": null,
      "outputs": []
    },
    {
      "cell_type": "code",
      "source": [
        "seq = (input(\"Введите последовательность \", ))\n",
        "rna = seq.replace(\"t\", \"u\")\n",
        "print(rna)"
      ],
      "metadata": {
        "colab": {
          "base_uri": "https://localhost:8080/"
        },
        "id": "UsTMWon7Oqvb",
        "outputId": "fe8345e3-0a25-4f61-a6c9-667a4587fc06"
      },
      "execution_count": null,
      "outputs": [
        {
          "output_type": "stream",
          "name": "stdout",
          "text": [
            "Введите последовательность acgttaattagcagctgacggagtaatccccaaacctggagacgatgtat\n",
            "acguuaauuagcagcugacggaguaauccccaaaccuggagacgauguau\n"
          ]
        }
      ]
    },
    {
      "cell_type": "code",
      "source": [
        "my_iter = iter([386, 462, 47, 418, 907, 344, 236, 375, 823, 566, 597, 978, 328, 615, 953, 345,399, 162, 758, 219, 918, 237, 412, 566, 826, 248, 866, 950, 626, 949, 687, 217,815, 67, 104, 58, 512, 24, 892, 894, 767, 553, 81, 379, 843, 831, 445, 742, 717,958,743, 527])\n",
        "for n in my_iter:\n",
        "  if n > 237:\n",
        "    if n % 2 == 0:\n",
        "      print(n)"
      ],
      "metadata": {
        "colab": {
          "base_uri": "https://localhost:8080/"
        },
        "id": "Lb2CCfagOtOo",
        "outputId": "ffe8d677-66ac-4bf2-c0cd-c57b49ae73c0"
      },
      "execution_count": null,
      "outputs": [
        {
          "output_type": "stream",
          "name": "stdout",
          "text": [
            "386\n",
            "462\n",
            "418\n",
            "344\n",
            "566\n",
            "978\n",
            "328\n",
            "758\n",
            "918\n",
            "412\n",
            "566\n",
            "826\n",
            "248\n",
            "866\n",
            "950\n",
            "626\n",
            "512\n",
            "892\n",
            "894\n",
            "742\n",
            "958\n"
          ]
        }
      ]
    },
    {
      "cell_type": "code",
      "source": [
        "my_iter = iter([386, 462, 47, 418, 907, 344, 236, 375, 823, 566, 597, 978, 328, 615, 953, 345,399, 162, 758, 219, 918, 237, 412, 566, 826, 248, 866, 950, 626, 949, 687, 217,815, 67, 104, 58, 512, 24, 892, 894, 767, 553, 81, 379, 843, 831, 445, 742, 717,958,743, 527])\n",
        "for n in my_iter:\n",
        "  if n > 237:\n",
        "    if n % 2 == 0:\n",
        "      print(n)\n",
        "  else:\n",
        "    print(\"Значение меньше 237\")\n",
        "    break"
      ],
      "metadata": {
        "colab": {
          "base_uri": "https://localhost:8080/"
        },
        "id": "RBqdefdoO20d",
        "outputId": "573c6274-5a8c-41fb-ed3b-0f2c542fc4ed"
      },
      "execution_count": null,
      "outputs": [
        {
          "output_type": "stream",
          "name": "stdout",
          "text": [
            "386\n",
            "462\n",
            "Значение меньше 237\n"
          ]
        }
      ]
    },
    {
      "cell_type": "code",
      "source": [
        "my_iter=list(['Eeny', 'meeny', 'miney', 'moe', 'Catch', 'a', 'tiger', 'by', 'his', 'toe', 'If', 'he', 'squeals', 'let', 'him', 'go', 'Eeny', 'meeny', 'miney', 'moe'])\n",
        "for n in my_iter:\n",
        "  m = (my_iter.count(n))\n",
        "  if m == 1:\n",
        "    print(n)"
      ],
      "metadata": {
        "colab": {
          "base_uri": "https://localhost:8080/"
        },
        "id": "fkZl2vDAO7Or",
        "outputId": "cc3a2a4b-4bbc-4e88-be8f-53949e06d6d5"
      },
      "execution_count": null,
      "outputs": [
        {
          "output_type": "stream",
          "name": "stdout",
          "text": [
            "Catch\n",
            "a\n",
            "tiger\n",
            "by\n",
            "his\n",
            "toe\n",
            "If\n",
            "he\n",
            "squeals\n",
            "let\n",
            "him\n",
            "go\n"
          ]
        }
      ]
    },
    {
      "cell_type": "code",
      "source": [
        "d1, d2 = dict({'a': 100, 'b': 200, 'c':300}), dict({'a': 300, 'b': 200, 'd':400})\n",
        "a1, a2, b1, b2, c3, d3 = (d1.get(\"a\")), (d2.get(\"a\")), (d1.get(\"b\")), (d2.get(\"b\")), (d1.get(\"c\")), (d2.get(\"d\"))\n",
        "a3, b3 = a1+a2, b1+b2\n",
        "d_new = dict({\"a\": a3, \"b\": b3, \"c\": c3, \"d\": d3})\n",
        "print(d_new)"
      ],
      "metadata": {
        "colab": {
          "base_uri": "https://localhost:8080/"
        },
        "id": "lXsG_6dWPA6i",
        "outputId": "8aea9a7b-fb2b-491e-92ab-83d52f695571"
      },
      "execution_count": null,
      "outputs": [
        {
          "output_type": "stream",
          "name": "stdout",
          "text": [
            "{'a': 400, 'b': 400, 'c': 300, 'd': 400}\n"
          ]
        }
      ]
    },
    {
      "cell_type": "code",
      "source": [
        "seq = input(\"Enter sequense \", )\n",
        "composition = dict({\"a\": (seq. count(\"a\")), \"c\": (seq. count(\"c\")), \"t\": (seq.count(\"t\")), \"g\": (seq.count(\"g\"))})\n",
        "print(composition)"
      ],
      "metadata": {
        "colab": {
          "base_uri": "https://localhost:8080/"
        },
        "id": "u0X3SFXJPTGE",
        "outputId": "4484d4ef-2e40-46b8-b360-148e17d06769"
      },
      "execution_count": null,
      "outputs": [
        {
          "output_type": "stream",
          "name": "stdout",
          "text": [
            "Enter sequense aagaatgtatatgtctgacacgttagcctggtgactaagtagtaatactcaatgggcggttaaagcgc\n",
            "{'a': 21, 'c': 11, 't': 18, 'g': 18}\n"
          ]
        }
      ]
    }
  ]
}