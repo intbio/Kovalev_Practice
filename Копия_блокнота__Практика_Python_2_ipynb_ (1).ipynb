{
  "nbformat": 4,
  "nbformat_minor": 0,
  "metadata": {
    "colab": {
      "name": "Копия блокнота \"Практика_Python_2.ipynb\"",
      "provenance": [],
      "collapsed_sections": []
    },
    "kernelspec": {
      "name": "python3",
      "display_name": "Python 3"
    },
    "language_info": {
      "name": "python"
    }
  },
  "cells": [
    {
      "cell_type": "markdown",
      "source": [
        "#Практическое упражнение 2\n",
        "\n",
        "1. качайте данный ноутбук и выполните задание (можно в Colab).\n",
        "2. Положите готовый ноутбук в проект и закомитьте изменения (в т.ч. залейте изменения в репозиторий Github)."
      ],
      "metadata": {
        "id": "f8TS6QSGMj4G"
      }
    },
    {
      "cell_type": "markdown",
      "metadata": {
        "id": "ZtT5F5fiizh3"
      },
      "source": [
        "###Задача 1\n",
        "\n",
        "Разделите строку `'We interrupt this program to annoy you and make things generally more irritating'` по пробелам на список строк и объедините эти слова назад в строку но вместо пробела используйте символ '`_`'"
      ]
    },
    {
      "cell_type": "code",
      "source": [
        "phrase = input(\"Enter phrase: \", )\n",
        "phrase1 = phrase.split()\n",
        "phrase2 = \"_\".join(phrase1)\n",
        "print(phrase2)\n"
      ],
      "metadata": {
        "id": "0C98G7bJANNX",
        "colab": {
          "base_uri": "https://localhost:8080/"
        },
        "outputId": "c777d171-abf7-4282-8e31-19b33dbb596a"
      },
      "execution_count": 9,
      "outputs": [
        {
          "output_type": "stream",
          "name": "stdout",
          "text": [
            "Enter phrase: We interrupt this program to annoy you and make things generally more irritating\n",
            "We_interrupt_this_program_to_annoy_you_and_make_things_generally_more_irritating\n"
          ]
        }
      ]
    },
    {
      "cell_type": "markdown",
      "source": [
        "###Задача 2\n",
        "\n",
        "Имеется последовательность кодирующей цепочки ДНК `caggatgtatatatctgacacgttaacctggagactagggagtaatccccaattggcggttaaaacgc`. \n",
        "\n",
        "Выведите символы в последовательности начиная с 10 по 20. \n",
        "\n",
        "Создайте новую последовательность путем утроения этого участка. (пример: из последовательности `tgcct` получится последовательность `tgccttgccttgcct`)\n",
        "\n",
        "Выведите результат в обратном порядке"
      ],
      "metadata": {
        "id": "hQ1o4NXuBGcZ"
      }
    },
    {
      "cell_type": "code",
      "source": [
        "# Насколько я понял, надо сделать с 10 по 20 включительно\n",
        "seq = input(\"Enter sequence: \", )\n",
        "seq1 = seq[9:20]\n",
        "seq2 = seq1*3\n",
        "seq3 = seq2[::-1]\n",
        "print(seq3)\n"
      ],
      "metadata": {
        "id": "JS_UzejYBKPf",
        "outputId": "9bf1ca87-6332-4429-d584-3abdfb147e4a",
        "colab": {
          "base_uri": "https://localhost:8080/"
        }
      },
      "execution_count": null,
      "outputs": [
        {
          "output_type": "stream",
          "name": "stdout",
          "text": [
            "Enter sequence: caggatgtatatatctgacacgttaacctggagactagggagtaatccccaattggcggttaaaacgc\n",
            "acagtctatatacagtctatatacagtctatat\n"
          ]
        }
      ]
    },
    {
      "cell_type": "markdown",
      "metadata": {
        "id": "HpIPGWV7YRBV"
      },
      "source": [
        "###Задача 3\n",
        "\n",
        "1) Найдите сайты рестрикции Hpa I (`GTT|AAC`) в последовательности ДНК `'caggatgtatatatctgacacgttaacctggagactagggagtaatccccaattggcggttaaaacgc'`, не забудьте про комплементарную цепь ДНК. Выведите позиции по которым ДНК будет разрезана."
      ]
    },
    {
      "cell_type": "code",
      "source": [
        "#Есть ли какой-нибудь простой метод, как находить все позиции в строке, а не только первую? Я искал, там только какая-то жесть...\n",
        "seq = input(\"Enter sequence: \", )\n",
        "cut = seq.find(\"gttaac\")+3\n",
        "print(\"Sequence will be cut between positions\", cut, \"and\", cut+1)"
      ],
      "metadata": {
        "id": "44ltKujnBZWF",
        "colab": {
          "base_uri": "https://localhost:8080/"
        },
        "outputId": "250cd11f-7d02-4d0f-b1f5-2ac950725140"
      },
      "execution_count": 44,
      "outputs": [
        {
          "output_type": "stream",
          "name": "stdout",
          "text": [
            "Enter sequence: caggatgtatatatctgacacgttaacctggagactagggagtaatccccaattggcggttaaaacgc\n",
            "Sequence will be cut between positions 24 and 25\n"
          ]
        }
      ]
    },
    {
      "cell_type": "markdown",
      "source": [
        "2) Выведите получившиеся олигонуклеотиды после рестрикции."
      ],
      "metadata": {
        "id": "i81CDhpkBi9J"
      }
    },
    {
      "cell_type": "code",
      "source": [
        "seq = input(\"Enter sequence: \", )\n",
        "cut = seq.find(\"gttaac\")+2\n",
        "seqlist = list(seq)\n",
        "seqlist1, seqlist2 = seqlist[0:cut+1], seqlist[cut+1:(len(seqlist)+1)]\n",
        "seq1, seq2 = \"\".join(seqlist1), \"\".join(seqlist2)\n",
        "print(seq1, \"+\", seq2)\n",
        "\n"
      ],
      "metadata": {
        "id": "3z3pYlNzBkRd",
        "colab": {
          "base_uri": "https://localhost:8080/"
        },
        "outputId": "76334189-76c5-475f-80f9-8ac0a0b509ac"
      },
      "execution_count": 60,
      "outputs": [
        {
          "output_type": "stream",
          "name": "stdout",
          "text": [
            "Enter sequence: caggatgtatatatctgacacgttaacctggagactagggagtaatccccaattggcggttaaaacgc\n",
            "caggatgtatatatctgacacgtt + aacctggagactagggagtaatccccaattggcggttaaaacgc\n"
          ]
        }
      ]
    },
    {
      "cell_type": "markdown",
      "metadata": {
        "id": "bUbMEI-toWkZ"
      },
      "source": [
        "###Задача 4\n",
        "\n",
        "Напишите код, который расчитает сумму всех ключей и значений без использования цикла (ключи и значения могут быть и другими!!!).\n",
        "\n",
        "```\n",
        "dic1={1:10, 2:20}\n",
        "dic2={3:30, 4:40}\n",
        "dic3={5:50, 6:60}\n",
        "\n",
        "Ожидаемый результат строка: 'Sum of keys = 21, sum of values = 210'\n",
        "```"
      ]
    },
    {
      "cell_type": "code",
      "source": [
        "dic1={1:10, 2:20}\n",
        "dic2={3:30, 4:40}\n",
        "dic3={5:50, 6:60}\n",
        "merged_dict = {**dic1, **dic2, **dic3}\n",
        "print(merged_dict)\n",
        "k, v = sum(merged_dict.keys()), sum(merged_dict.values())\n",
        "print(\"Sum of keys = \", k, \", sum of values = \", v)\n"
      ],
      "metadata": {
        "id": "-_55h-_qDljV",
        "colab": {
          "base_uri": "https://localhost:8080/"
        },
        "outputId": "9fb0e9c1-8361-40d7-b02b-d3ef3225dd6f"
      },
      "execution_count": 35,
      "outputs": [
        {
          "output_type": "stream",
          "name": "stdout",
          "text": [
            "{1: 10, 2: 20, 3: 30, 4: 40, 5: 50, 6: 60}\n",
            "Sum of keys =  21 , sum of values =  210\n"
          ]
        }
      ]
    },
    {
      "cell_type": "markdown",
      "source": [
        "###Задача 5\n",
        "\n",
        "Напишите функцию, которая на вход будет принимать список, а возвращать список (типа list) уникальных элементов"
      ],
      "metadata": {
        "id": "yghEPTXkD0Dt"
      }
    },
    {
      "cell_type": "code",
      "source": [
        "markers = [\"Ura3\", \"Ade2\", \"Leu2\", \"His3\", \"Trp1\", \"His3\", \"Ade2\", \"Trp1\", \"His3\", \"Trp1\"]\n",
        "newset = set(markers)\n",
        "newlist = list(newset)\n",
        "print(newlist)"
      ],
      "metadata": {
        "id": "-orwK2mUEeOk",
        "colab": {
          "base_uri": "https://localhost:8080/"
        },
        "outputId": "e808e0c1-3ac6-425e-d6d3-a657aed7b781"
      },
      "execution_count": 65,
      "outputs": [
        {
          "output_type": "stream",
          "name": "stdout",
          "text": [
            "['Ade2', 'Ura3', 'His3', 'Trp1', 'Leu2']\n"
          ]
        }
      ]
    },
    {
      "cell_type": "markdown",
      "source": [
        "###Задача 6\n",
        "Есть данные о температуре по Фарингейту для разных стран за последние 7 дней в виде словаря:\n",
        "\n",
        "```\n",
        "countries_temperature = {'Thailand': [75.2, 77, 78.8, 73.4, 68, 75.2, 77],\n",
        "                         'Germany': [57.2, 55.4, 59, 59, 53.6, 54, 55.2],\n",
        "                         'Russia': [35.6, 37.4, 39.2, 41, 42.8, 39.2, 38],\n",
        "                         'Poland': [50, 50, 53.6, 57.2, 55.4, 55.4, 54.8]}\n",
        "```\n",
        "\n",
        "Необходимо расчитать для каждой страны среднюю температуру в **Цельсиях**.\n",
        "\n",
        "Результат выведите в следующем виде:\n",
        "\n",
        "```\n",
        "Средняя температура в странах:\n",
        "Thailand - ... С\n",
        "Germany - ... С\n",
        "Russia - ... С\n",
        "Poland - ... С\n",
        "```"
      ],
      "metadata": {
        "id": "seFMJwoInweM"
      }
    },
    {
      "cell_type": "code",
      "source": [
        "countries_temperature = {'Thailand': [75.2, 77, 78.8, 73.4, 68, 75.2, 77],\n",
        "                         'Germany': [57.2, 55.4, 59, 59, 53.6, 54, 55.2],\n",
        "                         'Russia': [35.6, 37.4, 39.2, 41, 42.8, 39.2, 38],\n",
        "                         'Poland': [50, 50, 53.6, 57.2, 55.4, 55.4, 54.8]}\n",
        "for key, value in countries_temperature.items():\n",
        "  print(key, \"-\", ((sum(value)/len(value))-32)/1.8, \"C\")"
      ],
      "metadata": {
        "id": "NwnZdXdmF2sD",
        "colab": {
          "base_uri": "https://localhost:8080/"
        },
        "outputId": "310bb0a0-ea2e-49fa-f1bb-a77cb657f283"
      },
      "execution_count": 28,
      "outputs": [
        {
          "output_type": "stream",
          "name": "stdout",
          "text": [
            "Thailand - 23.857142857142854 C\n",
            "Germany - 13.444444444444441 C\n",
            "Russia - 3.9047619047619024 C\n",
            "Poland - 12.095238095238091 C\n"
          ]
        }
      ]
    },
    {
      "cell_type": "markdown",
      "source": [
        "### Задача 7\n",
        "\n",
        "1) Скачайте файл"
      ],
      "metadata": {
        "id": "lGvulTLfFieA"
      }
    },
    {
      "cell_type": "code",
      "source": [
        "! gdown --id 1hLhmP6H2WmN8WWT7wk-GHTaXUmUQqYWx"
      ],
      "metadata": {
        "id": "1lW2rz4tIlST",
        "colab": {
          "base_uri": "https://localhost:8080/"
        },
        "outputId": "d6ffa04e-d2a8-4541-eb8e-ef0c1f49dee5"
      },
      "execution_count": 74,
      "outputs": [
        {
          "output_type": "stream",
          "name": "stdout",
          "text": [
            "/usr/local/lib/python3.7/dist-packages/gdown/cli.py:131: FutureWarning: Option `--id` was deprecated in version 4.3.1 and will be removed in 5.0. You don't need to pass it anymore to use a file ID.\n",
            "  category=FutureWarning,\n",
            "Downloading...\n",
            "From: https://drive.google.com/uc?id=1hLhmP6H2WmN8WWT7wk-GHTaXUmUQqYWx\n",
            "To: /content/histone_variants.fasta\n",
            "100% 1.64k/1.64k [00:00<00:00, 1.13MB/s]\n"
          ]
        }
      ]
    },
    {
      "cell_type": "markdown",
      "source": [
        "2) Прочитайте его и разделите на отдельные последовательности\n",
        "\n",
        "Пример вывода одной последовательности:\n",
        "\n",
        "\n",
        "\n",
        "```\n",
        "NP_172363.1|arabidopsis|H2A.X\n",
        "MSTGAGSGTTKGGRGKPKATKSVSRSSKAGLQFPVGRIARFLKSGKYAERVGAGAPVYLS\n",
        "AVLEYLAAEVLELAGNAARDNKKTRIVPRHIQLAVRNDEELSKLLGSVTIANGGVLPNIH\n",
        "QTLLPSKVGKNKGDIGSASQEF\n",
        "```\n",
        "\n",
        "*Примечание*: далее \"шапкой\" буду назвывать текст вида \"NP_172363.1|arabidopsis|H2A.X\", из них \"NP_172363.1\" - accession, \"arabidopsis|H2A.X\" - escription.\n"
      ],
      "metadata": {
        "id": "1WRo8H3OJBdw"
      }
    },
    {
      "cell_type": "code",
      "source": [
        "histon = open(\"/histone_variants.fasta\", \"w\") \n",
        "histon.read()\n"
      ],
      "metadata": {
        "id": "t8-oypKLImwf",
        "colab": {
          "base_uri": "https://localhost:8080/",
          "height": 157
        },
        "outputId": "c8cb96ba-1905-4624-e7d7-cfe78db998bc"
      },
      "execution_count": 84,
      "outputs": [
        {
          "output_type": "execute_result",
          "data": {
            "text/plain": [
              "'>NP_172363.1|arabidopsis|H2A.X\\nMSTGAGSGTTKGGRGKPKATKSVSRSSKAGLQFPVGRIARFLKSGKYAERVGAGAPVYLS\\nAVLEYLAAEVLELAGNAARDNKKTRIVPRHIQLAVRNDEELSKLLGSVTIANGGVLPNIH\\nQTLLPSKVGKNKGDIGSASQEF\\n>NP_175517.1|arabidopsis|canonical_H2A\\nMAGRGKTLGSGSAKKATTRSSKAGLQFPVGRIARFLKKGKYAERVGAGAPVYLAAVLEYL\\nAAEVLELAGNAARDNKKTRIVPRHIQLAVRNDEELSKLLGDVTIANGGVMPNIHNLLLPK\\nKTGASKPSAEDD\\n>NP_175683.1|arabidopsis|H2A.Z\\nMSGKGAKGLIMGKPSGSDKDKDKKKPITRSSRAGLQFPVGRVHRLLKTRSTAHGRVGATA\\nAVYTAAILEYLTAEVLELAGNASKDLKVKRISPRHLQLAIRGDEELDTLIKGTIAGGGVI\\nPHIHKSLINKSAKE\\n>NP_175868.1|arabidopsis|H2A.X\\nMSSGAGSGTTKGGRGKPKATKSVSRSSKAGLQFPVGRIARFLKAGKYAERVGAGAPVYLS\\nAVLEYLAAEVLELAGNAARDNKKTRIVPRHIQLAVRNDEELSKLLGSVTIANGGVLPNIH\\nQTLLPSKVGKNKGDIGSASQEF\\n>XP_001119899.1|apis|canonical_H2A\\nMSGRGKGGKAKAKAKSRSNRAGLQFPVGRIHRLLRKGNYAERVGAGAPVYLAAVMEYLAA\\nEVLELAGNAARDNKKTRIIPRHLQLAIRNDEELNKLLSGVTIAQGGVLPNIQAVLLPKKT\\nEKKA\\n>XP_002913536.1|ailuropoda|H2A.P\\nMSGKKSHESSYQTQAHLITTELQVPVSYVDRLLQENQYNHPLSSSTTDFLLTMLDYLTDY\\nILDVVGTEANNSNMPTAPQDVERAVDSSGEPYHRSKDTAFTLFDEMPGSRRNG\\n>XP_002927211.1|ailuropoda|H2A.L\\nMSGRRSPWHSHQHKRHGLSRSMRAELQFPVSRVDRLLREGCYAQRLSSSTPVFLTGVLEY\\nLTANILELAGQEARNHHKMRITPEHVQRALVNNQHLSCLFEDITSLPAKGAPRLRKC\\n>XP_011215272.1|ailuropoda|H2A.B\\nMPGDRSRRGSSSGQRRTRSRTARAELSFSVSHVERLLREGHYAQRLGSSAPVFLAAVIQY\\nLTAKVLELAGNEAQNSGGRRITPQLVDMAVHNHALLSGFFGTTTISQVAPAWN\\n>XP_011215280.1|ailuropoda|canonical_H2A\\nMSGRGKQGGKARAKAKSRSSRAGLQFPVGRVHRLLRKGNYAERVGAGAPVYLAAVLEYLT\\nAEILELAGNAARDNKKTRIIPRHLQLAIRNDEELNKLLGRVTIAQGGVLPNIQAVLLPKK\\nTESHHKAKGK\\n>XP_624700.1|apis|H2A.X\\nMSGRGKGGKAKGKAKTRSSRAGLQFPVGRIHRLLRKGNYAERVGAGAPVYLAAVMEYLAA\\nEVLELAGNAARDNKKTRIIPRHLQLAIRNDEELNKLLSGVTIAQGGVLPNIQAVLLPKKT\\nGTGGSGKGDKASQEY\\n'"
            ],
            "application/vnd.google.colaboratory.intrinsic+json": {
              "type": "string"
            }
          },
          "metadata": {},
          "execution_count": 84
        }
      ]
    },
    {
      "cell_type": "markdown",
      "source": [
        "3) Ввыведите все accession-ы последовательностей"
      ],
      "metadata": {
        "id": "WrRBY5HNJT0g"
      }
    },
    {
      "cell_type": "code",
      "source": [
        ""
      ],
      "metadata": {
        "id": "rwzHD1tVJZnx"
      },
      "execution_count": null,
      "outputs": []
    },
    {
      "cell_type": "markdown",
      "source": [
        "4) Напишите генератор, который на вход принимает список последовательностей того же вида, что в пункте 2), а возвращать итератор accessions.\n",
        "\n",
        "*Примечание*: используйте здесь yeild вместо return"
      ],
      "metadata": {
        "id": "coOs8d_xLHgq"
      }
    },
    {
      "cell_type": "code",
      "source": [
        ""
      ],
      "metadata": {
        "id": "lHMuk5K5LI45"
      },
      "execution_count": null,
      "outputs": []
    },
    {
      "cell_type": "markdown",
      "source": [
        "5) Напишите функцию, которая на вход будет принимать 2 параметра:\n",
        "- последовательность вместе с \"шапкой\" (accession и описание)\n",
        "- разделитель (по умолчанию '|')\n",
        "\n",
        "и возвращать объект типа tuple (accession, description, sequence)"
      ],
      "metadata": {
        "id": "ATVMLFChJaPn"
      }
    },
    {
      "cell_type": "code",
      "source": [
        "fasta = input(\"Enter sequence: \", )\n",
        "separator = input(\"Enter separator: \", )\n",
        "accession, description = fasta.find(separator), fasta.find(\"M\")\n",
        "result = fasta[:accession], fasta[accession+1:description-1], fasta[description:].replace(\" \", \"\")\n",
        "print(result, type(result))"
      ],
      "metadata": {
        "id": "tGDxvEtpKIIf",
        "colab": {
          "base_uri": "https://localhost:8080/"
        },
        "outputId": "24b3b4c2-aff8-4a41-c26c-3c44e3681e28"
      },
      "execution_count": 98,
      "outputs": [
        {
          "output_type": "stream",
          "name": "stdout",
          "text": [
            "Enter sequence: NP_172363.1|arabidopsis|H2A.X MSTGAGSGTTKGGRGKPKATKSVSRSSKAGLQFPVGRIARFLKSGKYAERVGAGAPVYLS AVLEYLAAEVLELAGNAARDNKKTRIVPRHIQLAVRNDEELSKLLGSVTIANGGVLPNIH QTLLPSKVGKNKGDIGSASQEF\n",
            "Enter separator: |\n",
            "('NP_172363.1', 'arabidopsis|H2A.X', 'MSTGAGSGTTKGGRGKPKATKSVSRSSKAGLQFPVGRIARFLKSGKYAERVGAGAPVYLSAVLEYLAAEVLELAGNAARDNKKTRIVPRHIQLAVRNDEELSKLLGSVTIANGGVLPNIHQTLLPSKVGKNKGDIGSASQEF') <class 'tuple'>\n"
          ]
        }
      ]
    },
    {
      "cell_type": "markdown",
      "source": [
        "6) Напишите функцию, которая на вход будет принимать 2 параметра:\n",
        "- последовательность вместе с \"шапкой\" (accession и описание)\n",
        "- разделитель (по умолчанию '|')\n",
        "\n",
        "и возвращать объект типа dict {'accession': ..., 'description': ..., 'sequence': ...}"
      ],
      "metadata": {
        "id": "oOw7-rMUKIj-"
      }
    },
    {
      "cell_type": "code",
      "source": [
        "fasta = input(\"Enter sequence: \", )\n",
        "separator = input(\"Enter separator: \", )\n",
        "access, descript = fasta.find(separator), fasta.find(\"M\")\n",
        "acc, des, seq = fasta[:access], fasta[access+1:descript-1], fasta[descript:].replace(\" \", \"\")\n",
        "result = {'accession': acc, 'description': des, 'sequence': seq}\n",
        "print(result)"
      ],
      "metadata": {
        "id": "TreSoOu0KUgh",
        "colab": {
          "base_uri": "https://localhost:8080/"
        },
        "outputId": "42076184-a1bc-4eff-ca12-0fd9831cff8e"
      },
      "execution_count": 99,
      "outputs": [
        {
          "output_type": "stream",
          "name": "stdout",
          "text": [
            "Enter sequence: NP_172363.1|arabidopsis|H2A.X MSTGAGSGTTKGGRGKPKATKSVSRSSKAGLQFPVGRIARFLKSGKYAERVGAGAPVYLS AVLEYLAAEVLELAGNAARDNKKTRIVPRHIQLAVRNDEELSKLLGSVTIANGGVLPNIH QTLLPSKVGKNKGDIGSASQEF\n",
            "Enter separator: |\n",
            "{'accession': 'NP_172363.1', 'description': 'arabidopsis|H2A.X', 'sequence': 'MSTGAGSGTTKGGRGKPKATKSVSRSSKAGLQFPVGRIARFLKSGKYAERVGAGAPVYLSAVLEYLAAEVLELAGNAARDNKKTRIVPRHIQLAVRNDEELSKLLGSVTIANGGVLPNIHQTLLPSKVGKNKGDIGSASQEF'}\n"
          ]
        }
      ]
    }
  ]
}