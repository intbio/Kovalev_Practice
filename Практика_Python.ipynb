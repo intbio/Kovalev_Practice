{
  "nbformat": 4,
  "nbformat_minor": 0,
  "metadata": {
    "colab": {
      "name": "Практика_Python.ipynb",
      "provenance": [],
      "collapsed_sections": []
    },
    "kernelspec": {
      "name": "python3",
      "display_name": "Python 3"
    },
    "language_info": {
      "name": "python"
    }
  },
  "cells": [
    {
      "cell_type": "markdown",
      "source": [
        "#Практическое упражнение\n",
        "\n",
        "1. Создайте репозиторий в своем Github.\n",
        "2. Склонируйте репозиторий на локальный компьютер для дальнейшей работы.\n",
        "3. Скачайте данный ноутбук и выполните задание (можно в Colab).\n",
        "4. Положите готовый ноутбук в проект и закомитьте изменения (в т.ч. залейте изменения в репозиторий Github)."
      ],
      "metadata": {
        "id": "f8TS6QSGMj4G"
      }
    },
    {
      "cell_type": "markdown",
      "metadata": {
        "id": "4_iKSgoL5MhM"
      },
      "source": [
        "###Задача 1\n",
        "Имеется последовательность кодирующей цепочки ДНК `aagaatgtatatgtctgacacgttagcctggtgactaagtagtaatactcaatgggcggttaaagcgc`. \n",
        "\n",
        "1) выведите количество символов"
      ]
    },
    {
      "cell_type": "code",
      "source": [
        "seq = input(\"Enter sequense \", )\n",
        "ade, cyt, thy, gua = (seq.count(\"a\")), (seq.count(\"c\")), (seq.count(\"t\")), (seq.count(\"g\"))\n",
        "print(\"Adenine is\", ade, \" Cytosine is\", cyt, \" Thymine is\", thy, \" Guanine is\", gua)"
      ],
      "metadata": {
        "id": "fB7V-Pl9OOnq",
        "outputId": "92e65c0c-087d-4ea0-df8e-1365a1c89906",
        "colab": {
          "base_uri": "https://localhost:8080/"
        }
      },
      "execution_count": null,
      "outputs": [
        {
          "name": "stdout",
          "output_type": "stream",
          "text": [
            "Enter sequense aagaatgtatatgtctgacacgttagcctggtgactaagtagtaatactcaatgggcggttaaagcgc\n"
          ]
        }
      ]
    },
    {
      "cell_type": "markdown",
      "metadata": {
        "id": "sYfvnAvM6VIX"
      },
      "source": [
        "2) выведите символы в последовательности начиная с 2 по 15"
      ]
    },
    {
      "cell_type": "code",
      "source": [
        "seq = input(\"Enter sequence: \", )\n",
        "seq2 = seq[1:15]\n",
        "print(\"\".join(seq2))"
      ],
      "metadata": {
        "id": "bnfi1PBFOPD3"
      },
      "execution_count": null,
      "outputs": []
    },
    {
      "cell_type": "markdown",
      "metadata": {
        "id": "4xIXQB8w6ZJE"
      },
      "source": [
        "3) выведите последовательность в обратном порядке"
      ]
    },
    {
      "cell_type": "code",
      "execution_count": null,
      "metadata": {
        "id": "FyRjV6-LLYEc"
      },
      "outputs": [],
      "source": [
        "seq = input(\"Enter sequence: \", )\n",
        "seq2 = seq[::-1]\n",
        "print(\"\".join(seq2))"
      ]
    },
    {
      "cell_type": "markdown",
      "metadata": {
        "id": "mCtj_VJurcNh"
      },
      "source": [
        "4) найдите количество вхождения каждого нуклеотида в последовательность"
      ]
    },
    {
      "cell_type": "code",
      "source": [
        "seq = input(\"Enter sequence: \", )\n",
        "l = len(seq)\n",
        "print(l)"
      ],
      "metadata": {
        "id": "fmP3b8OJOyWm"
      },
      "execution_count": null,
      "outputs": []
    },
    {
      "cell_type": "markdown",
      "metadata": {
        "id": "NuB8szC26rGN"
      },
      "source": [
        "###Задача 2\n",
        "Имеется последовательность кодирующей цепочки ДНК `acgttaattagcagctgacggagtaatccccaaacctggagacgatgtat`.\n",
        "\n",
        "1) Создайте словарь транскрипции нуклеотидов ДНК в РНК"
      ]
    },
    {
      "cell_type": "code",
      "source": [
        "seq = list(input(\"Введите последовательность \", ))\n",
        "transcription = dict({\"a\": \"a\", \"t\": \"u\", \"c\": \"c\", \"g\": \"g\"})"
      ],
      "metadata": {
        "id": "QZuFzhqyOW-l"
      },
      "execution_count": null,
      "outputs": []
    },
    {
      "cell_type": "markdown",
      "metadata": {
        "id": "K3lXVQkj7Yyp"
      },
      "source": [
        "2) Найдите последовательность РНК, которая образуется в результате транскрипции"
      ]
    },
    {
      "cell_type": "code",
      "source": [
        "seq = list(input(\"Введите последовательность \", ))\n",
        "transcription = dict({\"a\": \"a\", \"t\": \"u\", \"c\": \"c\", \"g\": \"g\"})\n",
        "for i in seq:\n",
        "  print(transcription.get(i), end=\"\")"
      ],
      "metadata": {
        "id": "DCe_LUwROXS9"
      },
      "execution_count": null,
      "outputs": []
    },
    {
      "cell_type": "markdown",
      "metadata": {
        "id": "jxHxzn-ZqX9x"
      },
      "source": [
        "###Задача 3\n",
        "Выведите все четные числа из списка \n",
        "\n",
        "```\n",
        "numbers = [    \n",
        "    386, 462, 47, 418, 907, 344, 236, 375, 823, 566, 597, 978, 328, 615, 953, 345, \n",
        "    399, 162, 758, 219, 918, 237, 412, 566, 826, 248, 866, 950, 626, 949, 687, 217, \n",
        "    815, 67, 104, 58, 512, 24, 892, 894, 767, 553, 81, 379, 843, 831, 445, 742, 717, \n",
        "    958,743, 527\n",
        "    ]\n",
        "```\n",
        "\n",
        "в том же порядке, прекратите вывод, как только любое из чисел будет меньше 237"
      ]
    },
    {
      "cell_type": "code",
      "source": [
        "my_iter = iter([386, 462, 47, 418, 907, 344, 236, 375, 823, 566, 597, 978, 328, 615, 953, 345,399, 162, 758, 219, 918, 237, 412, 566, 826, 248, 866, 950, 626, 949, 687, 217,815, 67, 104, 58, 512, 24, 892, 894, 767, 553, 81, 379, 843, 831, 445, 742, 717,958,743, 527])\n",
        "for n in my_iter:\n",
        "  if n > 237:\n",
        "    if n % 2 == 0:\n",
        "      print(n)\n",
        "  else:\n",
        "    break"
      ],
      "metadata": {
        "id": "v4vWigO_PN3x"
      },
      "execution_count": null,
      "outputs": []
    },
    {
      "cell_type": "markdown",
      "metadata": {
        "id": "BZUnNYScmCRD"
      },
      "source": [
        "###Задача 4\n",
        "Напишите программу, которая удалит дубликаты из списка"
      ]
    },
    {
      "cell_type": "code",
      "metadata": {
        "id": "bj2evCuumEnz"
      },
      "source": [
        "test_list=['Eeny', 'meeny', 'miney', 'moe', 'Catch', 'a', 'tiger', 'by', 'his', 'toe', 'If', 'he', 'squeals', 'let', 'him', 'go', 'Eeny', 'meeny', 'miney', 'moe']"
      ],
      "execution_count": null,
      "outputs": []
    },
    {
      "cell_type": "code",
      "source": [
        "my_list=list(['Eeny', 'meeny', 'miney', 'moe', 'Catch', 'a', 'tiger', 'by', 'his', 'toe', 'If', 'he', 'squeals', 'let', 'him', 'go', 'Eeny', 'meeny', 'miney', 'moe'])\n",
        "my_set = set(my_list)\n",
        "print(my_set)"
      ],
      "metadata": {
        "id": "_nS3qTKhPY80"
      },
      "execution_count": null,
      "outputs": []
    },
    {
      "cell_type": "markdown",
      "metadata": {
        "id": "VZEJYMjUpJCQ"
      },
      "source": [
        "###Задача 5\n",
        "Сложите значения в словарях, согласно ключам\n",
        "\n",
        "```\n",
        "d1 = {'a': 100, 'b': 200, 'c':300}\n",
        "d2 = {'a': 300, 'b': 200, 'd':400}\n",
        "\n",
        "Ожидаемый результат: {'a': 400, 'b': 400, 'd': 400, 'c': 300}\n",
        "```\n"
      ]
    },
    {
      "cell_type": "code",
      "source": [
        "d1, d2 = dict({'a': 100, 'b': 200, 'c':300}), dict({'a': 300, 'b': 200, 'd':400})\n",
        "a1, a2, b1, b2, c3, d3 = (d1.get(\"a\")), (d2.get(\"a\")), (d1.get(\"b\")), (d2.get(\"b\")), (d1.get(\"c\")), (d2.get(\"d\"))\n",
        "a3, b3 = a1+a2, b1+b2\n",
        "d_new = dict({\"a\": a3, \"b\": b3, \"c\": c3, \"d\": d3})\n",
        "print(d_new)"
      ],
      "metadata": {
        "id": "LXMrGttHPeEh"
      },
      "execution_count": null,
      "outputs": []
    },
    {
      "cell_type": "markdown",
      "source": [
        "###Задача 6\n",
        "Имеется последовательность кодирующей цепочки ДНК `aagaatgtatatgtctgacacgttagcctggtgactaagtagtaatactcaatgggcggttaaagcgc`.\n",
        "\n",
        "Напишите функцию, которая будет принимать один параметр на вход - последовательность ДНК в виде строки, и возвращать количество вхождения каждого нуклеотида в нее в виде словаря."
      ],
      "metadata": {
        "id": "bmU7ngzdPx1m"
      }
    },
    {
      "cell_type": "code",
      "source": [
        "seq = input(\"Enter sequense \", )\n",
        "def ade(seq):\n",
        "  return seq.count(\"a\")\n",
        "def gua(seq):\n",
        "  return seq.count(\"g\")\n",
        "def cyt(seq):\n",
        "  return seq.count(\"c\")\n",
        "def thy(seq):\n",
        "  return seq.count(\"t\")\n",
        "composition = dict({\"a\": ade(seq), \"g\": gua(seq), \"c\": cyt(seq), \"t\": thy(seq)})\n",
        "print(composition)\n",
        "\n",
        "  "
      ],
      "metadata": {
        "id": "K8t3hIdcQDrY",
        "outputId": "ba56ce2d-f50b-44bb-a8f6-d43352d7a585",
        "colab": {
          "base_uri": "https://localhost:8080/"
        }
      },
      "execution_count": 12,
      "outputs": [
        {
          "output_type": "stream",
          "name": "stdout",
          "text": [
            "Enter sequense agctagctt\n",
            "{'a': 2, 'g': 2, 'c': 2, 't': 3}\n"
          ]
        }
      ]
    }
  ]
}